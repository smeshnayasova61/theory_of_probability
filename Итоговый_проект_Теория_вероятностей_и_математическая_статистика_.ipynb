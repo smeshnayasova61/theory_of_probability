{
  "nbformat": 4,
  "nbformat_minor": 0,
  "metadata": {
    "colab": {
      "provenance": [],
      "authorship_tag": "ABX9TyPmWLPjAwMCKvUUO5VR9ACt",
      "include_colab_link": true
    },
    "kernelspec": {
      "name": "python3",
      "display_name": "Python 3"
    },
    "language_info": {
      "name": "python"
    }
  },
  "cells": [
    {
      "cell_type": "markdown",
      "metadata": {
        "id": "view-in-github",
        "colab_type": "text"
      },
      "source": [
        "<a href=\"https://colab.research.google.com/github/smeshnayasova61/theory_of_probability/blob/main/%D0%98%D1%82%D0%BE%D0%B3%D0%BE%D0%B2%D1%8B%D0%B9_%D0%BF%D1%80%D0%BE%D0%B5%D0%BA%D1%82_%D0%A2%D0%B5%D0%BE%D1%80%D0%B8%D1%8F_%D0%B2%D0%B5%D1%80%D0%BE%D1%8F%D1%82%D0%BD%D0%BE%D1%81%D1%82%D0%B5%D0%B9_%D0%B8_%D0%BC%D0%B0%D1%82%D0%B5%D0%BC%D0%B0%D1%82%D0%B8%D1%87%D0%B5%D1%81%D0%BA%D0%B0%D1%8F_%D1%81%D1%82%D0%B0%D1%82%D0%B8%D1%81%D1%82%D0%B8%D0%BA%D0%B0_.ipynb\" target=\"_parent\"><img src=\"https://colab.research.google.com/assets/colab-badge.svg\" alt=\"Open In Colab\"/></a>"
      ]
    },
    {
      "cell_type": "markdown",
      "source": [
        "2. Прикрепить ссылку на курсовой проект на github. (см. выбор темы в ДЗ к Уроку 6)"
      ],
      "metadata": {
        "id": "p8Fn-5-8qQny"
      }
    },
    {
      "cell_type": "markdown",
      "source": [
        "Даны значения величины Среднего артериального давления (MBP)  и значения пульса (Ps):\n",
        "MBP = [117, 119, 121,  93,  94, 108, 100, 122, 120, 106],\n",
        "Ps = [104, 101,  83,  83,  78,  83, 102, 111,  85, 105]. \n",
        "\n",
        "Найдите ковариацию этих двух величин с помощью элементарных действий, а затем с помощью функции cov из numpy\n",
        "Полученные значения должны быть равны.\n",
        "Найдите коэффициент корреляции Пирсона с помощью ковариации и среднеквадратичных отклонений двух признаков,\n",
        "а затем с использованием функций из библиотек numpy и pandas.\n",
        "\n",
        "Используя математические операции, посчитать коэффициенты линейной регрессии, приняв за X MBP (то есть, MBP - признак), а за y - значения PS (то есть, Ps - целевая переменная). Произвести расчет с использованием intercept.\n",
        "\n",
        "Известно, что  генеральная совокупность MBP и PS   распределена нормально.\n",
        "Найдите доверительный интервал для математического ожидания с надежностью 0.95."
      ],
      "metadata": {
        "id": "ULT8cSH7SIGA"
      }
    },
    {
      "cell_type": "markdown",
      "source": [],
      "metadata": {
        "id": "hzoT1cM-es-E"
      }
    },
    {
      "cell_type": "code",
      "source": [
        "import numpy as np"
      ],
      "metadata": {
        "id": "BDP1iPolTKGX"
      },
      "execution_count": null,
      "outputs": []
    },
    {
      "cell_type": "code",
      "source": [
        "MBP=np.random.randint(90, 123, size=10, dtype='l')\n",
        "np.random.seed(90)\n",
        "MBP\n"
      ],
      "metadata": {
        "colab": {
          "base_uri": "https://localhost:8080/"
        },
        "id": "n3zj7ObYTOH-",
        "outputId": "9a5d6979-395f-44b2-8f30-e4cbe0118ff9"
      },
      "execution_count": null,
      "outputs": [
        {
          "output_type": "execute_result",
          "data": {
            "text/plain": [
              "array([120, 117,  99,  99,  94,  99, 118, 101, 121,  99])"
            ]
          },
          "metadata": {},
          "execution_count": 174
        }
      ]
    },
    {
      "cell_type": "code",
      "source": [
        "Ps=np.random.randint(74, 115, size=10, dtype='l')\n",
        "np.random.seed(74)\n",
        "Ps"
      ],
      "metadata": {
        "colab": {
          "base_uri": "https://localhost:8080/"
        },
        "id": "jHdtZcRmW6-4",
        "outputId": "f36e5f58-f8ca-4123-c0ad-1ab3713d8618"
      },
      "execution_count": null,
      "outputs": [
        {
          "output_type": "execute_result",
          "data": {
            "text/plain": [
              "array([101, 103, 105,  77, 113,  78, 111,  92,  84, 106])"
            ]
          },
          "metadata": {},
          "execution_count": 175
        }
      ]
    },
    {
      "cell_type": "code",
      "source": [
        "import numpy as np\n",
        "import scipy.stats as stats\n",
        "from statsmodels.stats.weightstats import _tconfint_generic as t_stat\n",
        "from statsmodels.stats.weightstats import _zconfint_generic as z_stat"
      ],
      "metadata": {
        "id": "U46uNItNYgbR"
      },
      "execution_count": null,
      "outputs": []
    },
    {
      "cell_type": "code",
      "source": [
        "MBP = np.array([117, 119, 121,  93,  94, 108, 100, 122, 120, 106])\n",
        "Ps = np.array([104, 101,  83,  83,  78,  83, 102, 111,  85, 105])"
      ],
      "metadata": {
        "id": "NIlSWWhfYuhh"
      },
      "execution_count": null,
      "outputs": []
    },
    {
      "cell_type": "code",
      "source": [
        "x_mean = MBP.mean()\n",
        "x_mean"
      ],
      "metadata": {
        "colab": {
          "base_uri": "https://localhost:8080/"
        },
        "id": "Eq1h6JDPYmS4",
        "outputId": "a9ad9bbd-788f-4e84-bf5d-a9de00f6f61e"
      },
      "execution_count": null,
      "outputs": [
        {
          "output_type": "execute_result",
          "data": {
            "text/plain": [
              "110.0"
            ]
          },
          "metadata": {},
          "execution_count": 178
        }
      ]
    },
    {
      "cell_type": "code",
      "source": [
        "y_mean = Ps.mean()\n",
        "y_mean"
      ],
      "metadata": {
        "colab": {
          "base_uri": "https://localhost:8080/"
        },
        "id": "rMawC_AfZ8WV",
        "outputId": "e433de20-4d85-49bb-9ffc-ad257d3fd2e3"
      },
      "execution_count": null,
      "outputs": [
        {
          "output_type": "execute_result",
          "data": {
            "text/plain": [
              "93.5"
            ]
          },
          "metadata": {},
          "execution_count": 179
        }
      ]
    },
    {
      "cell_type": "code",
      "source": [
        "xy_mean = (MBP * Ps).mean()\n",
        "xy_mean"
      ],
      "metadata": {
        "colab": {
          "base_uri": "https://localhost:8080/"
        },
        "id": "ccSTETGjaAEk",
        "outputId": "fc6dff5b-b1b1-4b90-ebcc-f1e8726cc936"
      },
      "execution_count": null,
      "outputs": [
        {
          "output_type": "execute_result",
          "data": {
            "text/plain": [
              "10331.7"
            ]
          },
          "metadata": {},
          "execution_count": 180
        }
      ]
    },
    {
      "cell_type": "code",
      "source": [
        "from numpy.lib.function_base import cov\n",
        "cov_Ps = xy_mean - x_mean * y_mean\n",
        "cov_Ps"
      ],
      "metadata": {
        "colab": {
          "base_uri": "https://localhost:8080/"
        },
        "id": "dcO_mjxyaJGC",
        "outputId": "714d516f-4045-4fe4-83ca-576c2308c5ec"
      },
      "execution_count": null,
      "outputs": [
        {
          "output_type": "execute_result",
          "data": {
            "text/plain": [
              "46.70000000000073"
            ]
          },
          "metadata": {},
          "execution_count": 181
        }
      ]
    },
    {
      "cell_type": "markdown",
      "source": [
        "Найдем ковариацию двух велечин с помощью стандартной функции:"
      ],
      "metadata": {
        "id": "8mqoA7FRak94"
      }
    },
    {
      "cell_type": "code",
      "source": [
        "np.cov(MBP, Ps, ddof=0)"
      ],
      "metadata": {
        "colab": {
          "base_uri": "https://localhost:8080/"
        },
        "id": "v3tWpOClaNfG",
        "outputId": "797d0357-93f5-4f58-829e-58ac49e7bc8d"
      },
      "execution_count": null,
      "outputs": [
        {
          "output_type": "execute_result",
          "data": {
            "text/plain": [
              "array([[116.  ,  46.7 ],\n",
              "       [ 46.7 , 132.05]])"
            ]
          },
          "metadata": {},
          "execution_count": 182
        }
      ]
    },
    {
      "cell_type": "code",
      "source": [
        "cov_Ps2 = ((MBP - MBP.mean()) * (Ps - Ps.mean())).mean()\n",
        "cov_Ps2"
      ],
      "metadata": {
        "colab": {
          "base_uri": "https://localhost:8080/"
        },
        "id": "NNsPHuPTaWPK",
        "outputId": "4138dfe1-819c-4012-8c47-a39da1e22032"
      },
      "execution_count": null,
      "outputs": [
        {
          "output_type": "execute_result",
          "data": {
            "text/plain": [
              "46.7"
            ]
          },
          "metadata": {},
          "execution_count": 183
        }
      ]
    },
    {
      "cell_type": "markdown",
      "source": [
        "Найдем коэффициент корреляции Пирсона с помощью кавариации и среднеквадратичных отклонений двух признаков."
      ],
      "metadata": {
        "id": "c2Mns9SYamBQ"
      }
    },
    {
      "cell_type": "code",
      "source": [
        "x_std = MBP.std()\n",
        "x_std"
      ],
      "metadata": {
        "colab": {
          "base_uri": "https://localhost:8080/"
        },
        "id": "i5HOIMwgan48",
        "outputId": "4aaffe86-752a-4d7e-9005-f9bfc2439825"
      },
      "execution_count": null,
      "outputs": [
        {
          "output_type": "execute_result",
          "data": {
            "text/plain": [
              "10.770329614269007"
            ]
          },
          "metadata": {},
          "execution_count": 184
        }
      ]
    },
    {
      "cell_type": "code",
      "source": [
        "y_std = Ps.std()\n",
        "y_std"
      ],
      "metadata": {
        "colab": {
          "base_uri": "https://localhost:8080/"
        },
        "id": "hR_Od6pFatrJ",
        "outputId": "df1a3708-1084-4ec1-b4a5-e49c08231979"
      },
      "execution_count": null,
      "outputs": [
        {
          "output_type": "execute_result",
          "data": {
            "text/plain": [
              "11.49130105775669"
            ]
          },
          "metadata": {},
          "execution_count": 185
        }
      ]
    },
    {
      "cell_type": "code",
      "source": [
        "corr_Ps = cov_Ps / (x_std * y_std)\n",
        "corr_Ps"
      ],
      "metadata": {
        "colab": {
          "base_uri": "https://localhost:8080/"
        },
        "id": "nyuXjL6Wawwm",
        "outputId": "3317837a-e6f0-42d8-948b-d68046a9404f"
      },
      "execution_count": null,
      "outputs": [
        {
          "output_type": "execute_result",
          "data": {
            "text/plain": [
              "0.37732769550123435"
            ]
          },
          "metadata": {},
          "execution_count": 186
        }
      ]
    },
    {
      "cell_type": "markdown",
      "source": [
        "Найдем коэффициент корреляции Пирсона с помощью функции библиотеки numpy"
      ],
      "metadata": {
        "id": "nLfreJQlbFal"
      }
    },
    {
      "cell_type": "code",
      "source": [
        "np.corrcoef(MBP, Ps)"
      ],
      "metadata": {
        "colab": {
          "base_uri": "https://localhost:8080/"
        },
        "id": "Pa0GDXHqbH86",
        "outputId": "be3a8450-fc3b-4ef6-9a55-cba6967399b1"
      },
      "execution_count": null,
      "outputs": [
        {
          "output_type": "execute_result",
          "data": {
            "text/plain": [
              "array([[1.       , 0.3773277],\n",
              "       [0.3773277, 1.       ]])"
            ]
          },
          "metadata": {},
          "execution_count": 187
        }
      ]
    },
    {
      "cell_type": "markdown",
      "source": [
        "Ответ: ковариация двух велечин равна 46.7.\n",
        "Коэффициент корреляции Пирсона двух велечин равен 0.37732769550123435 (между велечинами есть прямая слабая связь, т.е.чем выше MBP, тем выше PS)"
      ],
      "metadata": {
        "id": "b7bj2etmbO4-"
      }
    },
    {
      "cell_type": "markdown",
      "source": [
        "Используя математические операции, посчитать коэффициенты линейной регрессии, приняв за X MBP (то есть, MBP - признак), а за y - значения PS (то есть, Ps - целевая переменная). Произвести расчет с использованием intercept."
      ],
      "metadata": {
        "id": "pOjOlL-ie8nM"
      }
    },
    {
      "cell_type": "code",
      "source": [
        "import scipy.stats as stats\n",
        "import numpy as np\n",
        "import matplotlib.pyplot as plt\n",
        "from sklearn.linear_model import LinearRegression\n",
        "import matplotlib.pyplot as plt\n",
        "model = LinearRegression()"
      ],
      "metadata": {
        "id": "GBHXRKkZed7R"
      },
      "execution_count": null,
      "outputs": []
    },
    {
      "cell_type": "code",
      "source": [
        "MBP = np.array([117, 119, 121,  93,  94, 108, 100, 122, 120, 106])\n",
        "Ps = np.array([104, 101,  83,  83,  78,  83, 102, 111,  85, 105])"
      ],
      "metadata": {
        "id": "hedvGvoMfAm8"
      },
      "execution_count": null,
      "outputs": []
    },
    {
      "cell_type": "code",
      "source": [
        "plt.scatter(MBP, Ps)\n",
        "plt.title('График')\n",
        "plt.xlabel('Среднее АД')\n",
        "plt.ylabel('Пульс')\n",
        "plt.show()"
      ],
      "metadata": {
        "colab": {
          "base_uri": "https://localhost:8080/",
          "height": 295
        },
        "id": "8df0wuOVfHTR",
        "outputId": "2652107c-ca29-4abc-96d7-584ee925ff52"
      },
      "execution_count": null,
      "outputs": [
        {
          "output_type": "display_data",
          "data": {
            "text/plain": [
              "<Figure size 432x288 with 1 Axes>"
            ],
            "image/png": "[encoded data removed]"
          },
          "metadata": {
            "needs_background": "light"
          }
        }
      ]
    },
    {
      "cell_type": "code",
      "source": [
        "n = len(MBP)\n",
        "n"
      ],
      "metadata": {
        "colab": {
          "base_uri": "https://localhost:8080/"
        },
        "id": "Z4c2Ex6ZfXjk",
        "outputId": "6e94ae73-a9f1-4d4b-f1e4-7306cb0183f4"
      },
      "execution_count": null,
      "outputs": [
        {
          "output_type": "execute_result",
          "data": {
            "text/plain": [
              "10"
            ]
          },
          "metadata": {},
          "execution_count": 191
        }
      ]
    },
    {
      "cell_type": "code",
      "source": [
        "b1 = (n*np.sum(MBP*Ps) - np.sum(MBP)*np.sum(Ps)) / (n*np.sum(MBP**2) - np.sum(MBP)**2)\n",
        "b1"
      ],
      "metadata": {
        "colab": {
          "base_uri": "https://localhost:8080/"
        },
        "id": "wLoLrWx8fbht",
        "outputId": "444c8b60-0194-45ab-90a3-6773ce3e97c9"
      },
      "execution_count": null,
      "outputs": [
        {
          "output_type": "execute_result",
          "data": {
            "text/plain": [
              "0.4025862068965517"
            ]
          },
          "metadata": {},
          "execution_count": 192
        }
      ]
    },
    {
      "cell_type": "code",
      "source": [
        "b0 = np.mean(Ps) - b1 * np.mean(MBP)\n",
        "b0"
      ],
      "metadata": {
        "colab": {
          "base_uri": "https://localhost:8080/"
        },
        "id": "jtHbYXySfpPw",
        "outputId": "b5a100d4-ff71-4613-e6c8-d0e380334795"
      },
      "execution_count": null,
      "outputs": [
        {
          "output_type": "execute_result",
          "data": {
            "text/plain": [
              "49.21551724137931"
            ]
          },
          "metadata": {},
          "execution_count": 193
        }
      ]
    },
    {
      "cell_type": "code",
      "source": [
        "r = (np.corrcoef(MBP, Ps) [1,0])**2\n",
        "r"
      ],
      "metadata": {
        "colab": {
          "base_uri": "https://localhost:8080/"
        },
        "id": "SpB0WzXNfufo",
        "outputId": "766386bf-581e-4cf7-9dfd-0d6a751c1668"
      },
      "execution_count": null,
      "outputs": [
        {
          "output_type": "execute_result",
          "data": {
            "text/plain": [
              "0.14237618979226782"
            ]
          },
          "metadata": {},
          "execution_count": 194
        }
      ]
    },
    {
      "cell_type": "code",
      "source": [
        "print(f'b0 = {b0}; b1 = {b1}; r = {r}')\n",
        "# b0 или а - intercept\n",
        "# b1  или b- slope\n",
        "# r - coefficient of determination"
      ],
      "metadata": {
        "colab": {
          "base_uri": "https://localhost:8080/"
        },
        "id": "ZHYAq4SIgogi",
        "outputId": "74016eff-f9ae-4273-dc6d-05fa22d7d3fd"
      },
      "execution_count": null,
      "outputs": [
        {
          "output_type": "stream",
          "name": "stdout",
          "text": [
            "b0 = 49.21551724137931; b1 = 0.4025862068965517; r = 0.14237618979226782\n"
          ]
        }
      ]
    },
    {
      "cell_type": "markdown",
      "source": [
        "Проверим наши вычисления со встроенными функциями:"
      ],
      "metadata": {
        "id": "V6VVjfMFhCRF"
      }
    },
    {
      "cell_type": "code",
      "source": [
        "MBP_reshaped = MBP.reshape(-1,1)\n",
        "model.fit(MBP_reshaped, Ps)\n",
        "r_sq = model.score(MBP_reshaped, Ps)\n",
        "print('coefficient of determination:', r_sq)\n",
        "print('intercept:', model.intercept_)\n",
        "print('slope:', model.coef_)"
      ],
      "metadata": {
        "colab": {
          "base_uri": "https://localhost:8080/"
        },
        "id": "zvMRl2-HhC_2",
        "outputId": "9d59601c-2803-4ce8-d579-beb9a56efe38"
      },
      "execution_count": null,
      "outputs": [
        {
          "output_type": "stream",
          "name": "stdout",
          "text": [
            "coefficient of determination: 0.1423761897922674\n",
            "intercept: 49.2155172413793\n",
            "slope: [0.40258621]\n"
          ]
        }
      ]
    },
    {
      "cell_type": "markdown",
      "source": [
        "Наша модель будет выглядеть:\n",
        "$$y = 49.22 + 0.40*x$$ \\\\\n",
        "Визуализируем нашу модель:"
      ],
      "metadata": {
        "id": "XzGwG0rXhRx3"
      }
    },
    {
      "cell_type": "code",
      "source": [
        "plt.scatter(MBP, Ps)\n",
        "plt.plot(MBP, 49.22 + 0.40 * MBP)\n",
        "plt.title('График')\n",
        "plt.xlabel('Среднее АД')\n",
        "plt.ylabel('Пульс')\n",
        "plt.show()"
      ],
      "metadata": {
        "colab": {
          "base_uri": "https://localhost:8080/",
          "height": 295
        },
        "id": "lIB1JeE5hfZw",
        "outputId": "7b0007f1-ed35-4154-9d31-8a889676ae18"
      },
      "execution_count": null,
      "outputs": [
        {
          "output_type": "display_data",
          "data": {
            "text/plain": [
              "<Figure size 432x288 with 1 Axes>"
            ],
            "image/png": "[encoded data removed]"
          },
          "metadata": {
            "needs_background": "light"
          }
        }
      ]
    },
    {
      "cell_type": "code",
      "source": [
        "import numpy as np\n",
        "\n",
        "# количество наблюдений\n",
        "n = 10\n",
        "\n",
        "x = np.array([117, 119, 121,  93,  94, 108, 100, 122, 120, 106])\n",
        "y = np.array([104, 101,  83,  83,  78,  83, 102, 111,  85, 105])"
      ],
      "metadata": {
        "id": "d-ihAVi5k079"
      },
      "execution_count": null,
      "outputs": []
    },
    {
      "cell_type": "code",
      "source": [
        "#коэффициент линейной регрессии b\n",
        "b = (np.mean(x * y) - np.mean(x) * np.mean(y)) / (np.mean(x**2) - np.mean(x) ** 2)\n",
        "b"
      ],
      "metadata": {
        "colab": {
          "base_uri": "https://localhost:8080/"
        },
        "id": "6ga00vWelHRb",
        "outputId": "10eed562-2a99-476d-fa31-3925770b4e69"
      },
      "execution_count": null,
      "outputs": [
        {
          "output_type": "execute_result",
          "data": {
            "text/plain": [
              "0.402586206896558"
            ]
          },
          "metadata": {},
          "execution_count": 203
        }
      ]
    },
    {
      "cell_type": "code",
      "source": [
        "#коэффициент линейной регрессии а\n",
        "a = np.mean(y) - b * np.mean(x)\n",
        "a"
      ],
      "metadata": {
        "colab": {
          "base_uri": "https://localhost:8080/"
        },
        "id": "svmsh7XtlKY9",
        "outputId": "67990e35-c9eb-43ca-ac3c-e62bed2dd32a"
      },
      "execution_count": null,
      "outputs": [
        {
          "output_type": "execute_result",
          "data": {
            "text/plain": [
              "49.21551724137862"
            ]
          },
          "metadata": {},
          "execution_count": 204
        }
      ]
    },
    {
      "cell_type": "markdown",
      "source": [
        "Получаем уравнение линейной регрессии:\n",
        "$$y = 444.18 + 2.62*x$$"
      ],
      "metadata": {
        "id": "fN-nm3ftlQyR"
      }
    },
    {
      "cell_type": "code",
      "source": [
        "#коэффициент корреляции\n",
        "r = b * np.std(x) / np.std(y)\n",
        "r"
      ],
      "metadata": {
        "colab": {
          "base_uri": "https://localhost:8080/"
        },
        "id": "MNz2zaUGlVXb",
        "outputId": "16962f3c-538e-4e19-dab5-6d35a7882d9a"
      },
      "execution_count": null,
      "outputs": [
        {
          "output_type": "execute_result",
          "data": {
            "text/plain": [
              "0.37732769550123435"
            ]
          },
          "metadata": {},
          "execution_count": 205
        }
      ]
    },
    {
      "cell_type": "markdown",
      "source": [
        "коэффициент корреляции близок к 0, значит корреляционная связь слабая, положительный, значит существует прямая зависимость между MBP и PS."
      ],
      "metadata": {
        "id": "jR1KXuRmlbbh"
      }
    },
    {
      "cell_type": "code",
      "source": [
        "#коэффициент детерминации\n",
        "R2 = r**2\n",
        "R2"
      ],
      "metadata": {
        "colab": {
          "base_uri": "https://localhost:8080/"
        },
        "id": "Wu00MBaol0Fi",
        "outputId": "d686a729-3bdc-43b0-b8b8-0847b2329559"
      },
      "execution_count": null,
      "outputs": [
        {
          "output_type": "execute_result",
          "data": {
            "text/plain": [
              "0.14237618979227223"
            ]
          },
          "metadata": {},
          "execution_count": 206
        }
      ]
    },
    {
      "cell_type": "markdown",
      "source": [
        "Это означает, что 14.2% вариации Ps ($y$) объясняется вариацией фактора $x$ — MBP."
      ],
      "metadata": {
        "id": "60O-kZC2l5am"
      }
    },
    {
      "cell_type": "markdown",
      "source": [
        "С помощью этого уравнения регрессии посчитаем значения, предсказанные моделью значения ks:"
      ],
      "metadata": {
        "id": "Hy_0h89smH9f"
      }
    },
    {
      "cell_type": "code",
      "source": [
        "y_pred = a + b * x\n",
        "y_pred"
      ],
      "metadata": {
        "colab": {
          "base_uri": "https://localhost:8080/"
        },
        "id": "VixAo0BPmKHz",
        "outputId": "bc3cb9fd-1962-42f9-9269-1db379fe2240"
      },
      "execution_count": null,
      "outputs": [
        {
          "output_type": "execute_result",
          "data": {
            "text/plain": [
              "array([96.31810345, 97.12327586, 97.92844828, 86.65603448, 87.05862069,\n",
              "       92.69482759, 89.47413793, 98.33103448, 97.52586207, 91.88965517])"
            ]
          },
          "metadata": {},
          "execution_count": 207
        }
      ]
    },
    {
      "cell_type": "code",
      "source": [
        "import pandas as pd\n",
        "\n",
        "df = pd.DataFrame({'x': x, 'y': y, 'y_pred': y_pred}, columns=['x', 'y', 'y_pred'])\n",
        "df"
      ],
      "metadata": {
        "colab": {
          "base_uri": "https://localhost:8080/",
          "height": 363
        },
        "id": "5ZVKffEtmM3A",
        "outputId": "410a04d3-a7a1-41d9-af5f-4211c78488a8"
      },
      "execution_count": null,
      "outputs": [
        {
          "output_type": "execute_result",
          "data": {
            "text/plain": [
              "     x    y     y_pred\n",
              "0  117  104  96.318103\n",
              "1  119  101  97.123276\n",
              "2  121   83  97.928448\n",
              "3   93   83  86.656034\n",
              "4   94   78  87.058621\n",
              "5  108   83  92.694828\n",
              "6  100  102  89.474138\n",
              "7  122  111  98.331034\n",
              "8  120   85  97.525862\n",
              "9  106  105  91.889655"
            ],
            "text/html": [
              "\n",
              "  <div id=\"df-a591e4c2-54bc-4d12-a968-2ddbcaa6e415\">\n",
              "    <div class=\"colab-df-container\">\n",
              "      <div>\n",
              "<style scoped>\n",
              "    .dataframe tbody tr th:only-of-type {\n",
              "        vertical-align: middle;\n",
              "    }\n",
              "\n",
              "    .dataframe tbody tr th {\n",
              "        vertical-align: top;\n",
              "    }\n",
              "\n",
              "    .dataframe thead th {\n",
              "        text-align: right;\n",
              "    }\n",
              "</style>\n",
              "<table border=\"1\" class=\"dataframe\">\n",
              "  <thead>\n",
              "    <tr style=\"text-align: right;\">\n",
              "      <th></th>\n",
              "      <th>x</th>\n",
              "      <th>y</th>\n",
              "      <th>y_pred</th>\n",
              "    </tr>\n",
              "  </thead>\n",
              "  <tbody>\n",
              "    <tr>\n",
              "      <th>0</th>\n",
              "      <td>117</td>\n",
              "      <td>104</td>\n",
              "      <td>96.318103</td>\n",
              "    </tr>\n",
              "    <tr>\n",
              "      <th>1</th>\n",
              "      <td>119</td>\n",
              "      <td>101</td>\n",
              "      <td>97.123276</td>\n",
              "    </tr>\n",
              "    <tr>\n",
              "      <th>2</th>\n",
              "      <td>121</td>\n",
              "      <td>83</td>\n",
              "      <td>97.928448</td>\n",
              "    </tr>\n",
              "    <tr>\n",
              "      <th>3</th>\n",
              "      <td>93</td>\n",
              "      <td>83</td>\n",
              "      <td>86.656034</td>\n",
              "    </tr>\n",
              "    <tr>\n",
              "      <th>4</th>\n",
              "      <td>94</td>\n",
              "      <td>78</td>\n",
              "      <td>87.058621</td>\n",
              "    </tr>\n",
              "    <tr>\n",
              "      <th>5</th>\n",
              "      <td>108</td>\n",
              "      <td>83</td>\n",
              "      <td>92.694828</td>\n",
              "    </tr>\n",
              "    <tr>\n",
              "      <th>6</th>\n",
              "      <td>100</td>\n",
              "      <td>102</td>\n",
              "      <td>89.474138</td>\n",
              "    </tr>\n",
              "    <tr>\n",
              "      <th>7</th>\n",
              "      <td>122</td>\n",
              "      <td>111</td>\n",
              "      <td>98.331034</td>\n",
              "    </tr>\n",
              "    <tr>\n",
              "      <th>8</th>\n",
              "      <td>120</td>\n",
              "      <td>85</td>\n",
              "      <td>97.525862</td>\n",
              "    </tr>\n",
              "    <tr>\n",
              "      <th>9</th>\n",
              "      <td>106</td>\n",
              "      <td>105</td>\n",
              "      <td>91.889655</td>\n",
              "    </tr>\n",
              "  </tbody>\n",
              "</table>\n",
              "</div>\n",
              "      <button class=\"colab-df-convert\" onclick=\"convertToInteractive('df-a591e4c2-54bc-4d12-a968-2ddbcaa6e415')\"\n",
              "              title=\"Convert this dataframe to an interactive table.\"\n",
              "              style=\"display:none;\">\n",
              "        \n",
              "  <svg xmlns=\"http://www.w3.org/2000/svg\" height=\"24px\"viewBox=\"0 0 24 24\"\n",
              "       width=\"24px\">\n",
              "    <path d=\"M0 0h24v24H0V0z\" fill=\"none\"/>\n",
              "    <path d=\"M18.56 5.44l.94 2.06.94-2.06 2.06-.94-2.06-.94-.94-2.06-.94 2.06-2.06.94zm-11 1L8.5 8.5l.94-2.06 2.06-.94-2.06-.94L8.5 2.5l-.94 2.06-2.06.94zm10 10l.94 2.06.94-2.06 2.06-.94-2.06-.94-.94-2.06-.94 2.06-2.06.94z\"/><path d=\"M17.41 7.96l-1.37-1.37c-.4-.4-.92-.59-1.43-.59-.52 0-1.04.2-1.43.59L10.3 9.45l-7.72 7.72c-.78.78-.78 2.05 0 2.83L4 21.41c.39.39.9.59 1.41.59.51 0 1.02-.2 1.41-.59l7.78-7.78 2.81-2.81c.8-.78.8-2.07 0-2.86zM5.41 20L4 18.59l7.72-7.72 1.47 1.35L5.41 20z\"/>\n",
              "  </svg>\n",
              "      </button>\n",
              "      \n",
              "  <style>\n",
              "    .colab-df-container {\n",
              "      display:flex;\n",
              "      flex-wrap:wrap;\n",
              "      gap: 12px;\n",
              "    }\n",
              "\n",
              "    .colab-df-convert {\n",
              "      background-color: #E8F0FE;\n",
              "      border: none;\n",
              "      border-radius: 50%;\n",
              "      cursor: pointer;\n",
              "      display: none;\n",
              "      fill: #1967D2;\n",
              "      height: 32px;\n",
              "      padding: 0 0 0 0;\n",
              "      width: 32px;\n",
              "    }\n",
              "\n",
              "    .colab-df-convert:hover {\n",
              "      background-color: #E2EBFA;\n",
              "      box-shadow: 0px 1px 2px rgba(60, 64, 67, 0.3), 0px 1px 3px 1px rgba(60, 64, 67, 0.15);\n",
              "      fill: #174EA6;\n",
              "    }\n",
              "\n",
              "    [theme=dark] .colab-df-convert {\n",
              "      background-color: #3B4455;\n",
              "      fill: #D2E3FC;\n",
              "    }\n",
              "\n",
              "    [theme=dark] .colab-df-convert:hover {\n",
              "      background-color: #434B5C;\n",
              "      box-shadow: 0px 1px 3px 1px rgba(0, 0, 0, 0.15);\n",
              "      filter: drop-shadow(0px 1px 2px rgba(0, 0, 0, 0.3));\n",
              "      fill: #FFFFFF;\n",
              "    }\n",
              "  </style>\n",
              "\n",
              "      <script>\n",
              "        const buttonEl =\n",
              "          document.querySelector('#df-a591e4c2-54bc-4d12-a968-2ddbcaa6e415 button.colab-df-convert');\n",
              "        buttonEl.style.display =\n",
              "          google.colab.kernel.accessAllowed ? 'block' : 'none';\n",
              "\n",
              "        async function convertToInteractive(key) {\n",
              "          const element = document.querySelector('#df-a591e4c2-54bc-4d12-a968-2ddbcaa6e415');\n",
              "          const dataTable =\n",
              "            await google.colab.kernel.invokeFunction('convertToInteractive',\n",
              "                                                     [key], {});\n",
              "          if (!dataTable) return;\n",
              "\n",
              "          const docLinkHtml = 'Like what you see? Visit the ' +\n",
              "            '<a target=\"_blank\" href=https://colab.research.google.com/notebooks/data_table.ipynb>data table notebook</a>'\n",
              "            + ' to learn more about interactive tables.';\n",
              "          element.innerHTML = '';\n",
              "          dataTable['output_type'] = 'display_data';\n",
              "          await google.colab.output.renderOutput(dataTable, element);\n",
              "          const docLink = document.createElement('div');\n",
              "          docLink.innerHTML = docLinkHtml;\n",
              "          element.appendChild(docLink);\n",
              "        }\n",
              "      </script>\n",
              "    </div>\n",
              "  </div>\n",
              "  "
            ]
          },
          "metadata": {},
          "execution_count": 208
        }
      ]
    },
    {
      "cell_type": "code",
      "source": [
        "df = df.sort_values('x')\n",
        "df"
      ],
      "metadata": {
        "colab": {
          "base_uri": "https://localhost:8080/",
          "height": 363
        },
        "id": "_YKZkh26mULj",
        "outputId": "8e2bed76-d803-475b-ae82-b32c1ec8a6be"
      },
      "execution_count": null,
      "outputs": [
        {
          "output_type": "execute_result",
          "data": {
            "text/plain": [
              "     x    y     y_pred\n",
              "3   93   83  86.656034\n",
              "4   94   78  87.058621\n",
              "6  100  102  89.474138\n",
              "9  106  105  91.889655\n",
              "5  108   83  92.694828\n",
              "0  117  104  96.318103\n",
              "1  119  101  97.123276\n",
              "8  120   85  97.525862\n",
              "2  121   83  97.928448\n",
              "7  122  111  98.331034"
            ],
            "text/html": [
              "\n",
              "  <div id=\"df-8f1a750e-0114-4cf0-9e82-89d839a7df17\">\n",
              "    <div class=\"colab-df-container\">\n",
              "      <div>\n",
              "<style scoped>\n",
              "    .dataframe tbody tr th:only-of-type {\n",
              "        vertical-align: middle;\n",
              "    }\n",
              "\n",
              "    .dataframe tbody tr th {\n",
              "        vertical-align: top;\n",
              "    }\n",
              "\n",
              "    .dataframe thead th {\n",
              "        text-align: right;\n",
              "    }\n",
              "</style>\n",
              "<table border=\"1\" class=\"dataframe\">\n",
              "  <thead>\n",
              "    <tr style=\"text-align: right;\">\n",
              "      <th></th>\n",
              "      <th>x</th>\n",
              "      <th>y</th>\n",
              "      <th>y_pred</th>\n",
              "    </tr>\n",
              "  </thead>\n",
              "  <tbody>\n",
              "    <tr>\n",
              "      <th>3</th>\n",
              "      <td>93</td>\n",
              "      <td>83</td>\n",
              "      <td>86.656034</td>\n",
              "    </tr>\n",
              "    <tr>\n",
              "      <th>4</th>\n",
              "      <td>94</td>\n",
              "      <td>78</td>\n",
              "      <td>87.058621</td>\n",
              "    </tr>\n",
              "    <tr>\n",
              "      <th>6</th>\n",
              "      <td>100</td>\n",
              "      <td>102</td>\n",
              "      <td>89.474138</td>\n",
              "    </tr>\n",
              "    <tr>\n",
              "      <th>9</th>\n",
              "      <td>106</td>\n",
              "      <td>105</td>\n",
              "      <td>91.889655</td>\n",
              "    </tr>\n",
              "    <tr>\n",
              "      <th>5</th>\n",
              "      <td>108</td>\n",
              "      <td>83</td>\n",
              "      <td>92.694828</td>\n",
              "    </tr>\n",
              "    <tr>\n",
              "      <th>0</th>\n",
              "      <td>117</td>\n",
              "      <td>104</td>\n",
              "      <td>96.318103</td>\n",
              "    </tr>\n",
              "    <tr>\n",
              "      <th>1</th>\n",
              "      <td>119</td>\n",
              "      <td>101</td>\n",
              "      <td>97.123276</td>\n",
              "    </tr>\n",
              "    <tr>\n",
              "      <th>8</th>\n",
              "      <td>120</td>\n",
              "      <td>85</td>\n",
              "      <td>97.525862</td>\n",
              "    </tr>\n",
              "    <tr>\n",
              "      <th>2</th>\n",
              "      <td>121</td>\n",
              "      <td>83</td>\n",
              "      <td>97.928448</td>\n",
              "    </tr>\n",
              "    <tr>\n",
              "      <th>7</th>\n",
              "      <td>122</td>\n",
              "      <td>111</td>\n",
              "      <td>98.331034</td>\n",
              "    </tr>\n",
              "  </tbody>\n",
              "</table>\n",
              "</div>\n",
              "      <button class=\"colab-df-convert\" onclick=\"convertToInteractive('df-8f1a750e-0114-4cf0-9e82-89d839a7df17')\"\n",
              "              title=\"Convert this dataframe to an interactive table.\"\n",
              "              style=\"display:none;\">\n",
              "        \n",
              "  <svg xmlns=\"http://www.w3.org/2000/svg\" height=\"24px\"viewBox=\"0 0 24 24\"\n",
              "       width=\"24px\">\n",
              "    <path d=\"M0 0h24v24H0V0z\" fill=\"none\"/>\n",
              "    <path d=\"M18.56 5.44l.94 2.06.94-2.06 2.06-.94-2.06-.94-.94-2.06-.94 2.06-2.06.94zm-11 1L8.5 8.5l.94-2.06 2.06-.94-2.06-.94L8.5 2.5l-.94 2.06-2.06.94zm10 10l.94 2.06.94-2.06 2.06-.94-2.06-.94-.94-2.06-.94 2.06-2.06.94z\"/><path d=\"M17.41 7.96l-1.37-1.37c-.4-.4-.92-.59-1.43-.59-.52 0-1.04.2-1.43.59L10.3 9.45l-7.72 7.72c-.78.78-.78 2.05 0 2.83L4 21.41c.39.39.9.59 1.41.59.51 0 1.02-.2 1.41-.59l7.78-7.78 2.81-2.81c.8-.78.8-2.07 0-2.86zM5.41 20L4 18.59l7.72-7.72 1.47 1.35L5.41 20z\"/>\n",
              "  </svg>\n",
              "      </button>\n",
              "      \n",
              "  <style>\n",
              "    .colab-df-container {\n",
              "      display:flex;\n",
              "      flex-wrap:wrap;\n",
              "      gap: 12px;\n",
              "    }\n",
              "\n",
              "    .colab-df-convert {\n",
              "      background-color: #E8F0FE;\n",
              "      border: none;\n",
              "      border-radius: 50%;\n",
              "      cursor: pointer;\n",
              "      display: none;\n",
              "      fill: #1967D2;\n",
              "      height: 32px;\n",
              "      padding: 0 0 0 0;\n",
              "      width: 32px;\n",
              "    }\n",
              "\n",
              "    .colab-df-convert:hover {\n",
              "      background-color: #E2EBFA;\n",
              "      box-shadow: 0px 1px 2px rgba(60, 64, 67, 0.3), 0px 1px 3px 1px rgba(60, 64, 67, 0.15);\n",
              "      fill: #174EA6;\n",
              "    }\n",
              "\n",
              "    [theme=dark] .colab-df-convert {\n",
              "      background-color: #3B4455;\n",
              "      fill: #D2E3FC;\n",
              "    }\n",
              "\n",
              "    [theme=dark] .colab-df-convert:hover {\n",
              "      background-color: #434B5C;\n",
              "      box-shadow: 0px 1px 3px 1px rgba(0, 0, 0, 0.15);\n",
              "      filter: drop-shadow(0px 1px 2px rgba(0, 0, 0, 0.3));\n",
              "      fill: #FFFFFF;\n",
              "    }\n",
              "  </style>\n",
              "\n",
              "      <script>\n",
              "        const buttonEl =\n",
              "          document.querySelector('#df-8f1a750e-0114-4cf0-9e82-89d839a7df17 button.colab-df-convert');\n",
              "        buttonEl.style.display =\n",
              "          google.colab.kernel.accessAllowed ? 'block' : 'none';\n",
              "\n",
              "        async function convertToInteractive(key) {\n",
              "          const element = document.querySelector('#df-8f1a750e-0114-4cf0-9e82-89d839a7df17');\n",
              "          const dataTable =\n",
              "            await google.colab.kernel.invokeFunction('convertToInteractive',\n",
              "                                                     [key], {});\n",
              "          if (!dataTable) return;\n",
              "\n",
              "          const docLinkHtml = 'Like what you see? Visit the ' +\n",
              "            '<a target=\"_blank\" href=https://colab.research.google.com/notebooks/data_table.ipynb>data table notebook</a>'\n",
              "            + ' to learn more about interactive tables.';\n",
              "          element.innerHTML = '';\n",
              "          dataTable['output_type'] = 'display_data';\n",
              "          await google.colab.output.renderOutput(dataTable, element);\n",
              "          const docLink = document.createElement('div');\n",
              "          docLink.innerHTML = docLinkHtml;\n",
              "          element.appendChild(docLink);\n",
              "        }\n",
              "      </script>\n",
              "    </div>\n",
              "  </div>\n",
              "  "
            ]
          },
          "metadata": {},
          "execution_count": 209
        }
      ]
    },
    {
      "cell_type": "code",
      "source": [
        "import matplotlib.pyplot as plt\n",
        "\n",
        "plt.scatter(df['x'], df['y'])\n",
        "plt.plot(df['x'], df['y_pred'])\n",
        "plt.xlabel('Среднее АД')\n",
        "plt.ylabel('Пульс')\n",
        "plt.show()"
      ],
      "metadata": {
        "colab": {
          "base_uri": "https://localhost:8080/",
          "height": 279
        },
        "id": "5gL6krPhmW0j",
        "outputId": "ad7a8c9a-c733-42fe-9698-db141ff82c80"
      },
      "execution_count": null,
      "outputs": [
        {
          "output_type": "display_data",
          "data": {
            "text/plain": [
              "<Figure size 432x288 with 1 Axes>"
            ],
            "image/png": "[encoded data removed]"
          },
          "metadata": {
            "needs_background": "light"
          }
        }
      ]
    },
    {
      "cell_type": "markdown",
      "source": [
        "MBP = [117, 119, 121,  93,  94, 108, 100, 122, 120, 106],\n",
        "Ps = [104, 101,  83,  83,  78,  83, 102, 111,  85, 105]. \n",
        "\n",
        "Известно, что  генеральная совокупность MBP и PS   распределена нормально.\n",
        "Найдите доверительный интервал для математического ожидания с надежностью 0.95."
      ],
      "metadata": {
        "id": "crITzQ_KqNhU"
      }
    },
    {
      "cell_type": "code",
      "source": [
        "x=np.array([117, 119, 121,  93,  94, 108, 100, 122, 120, 106])\n",
        "x_mean = x.mean()\n",
        "x_mean"
      ],
      "metadata": {
        "colab": {
          "base_uri": "https://localhost:8080/"
        },
        "id": "mlncjN_IqP8d",
        "outputId": "3bd3679b-8261-4c50-d67b-52ab45d6cb07"
      },
      "execution_count": null,
      "outputs": [
        {
          "output_type": "execute_result",
          "data": {
            "text/plain": [
              "110.0"
            ]
          },
          "metadata": {},
          "execution_count": 211
        }
      ]
    },
    {
      "cell_type": "code",
      "source": [
        "std_x = x.std(ddof=1)\n",
        "std_x"
      ],
      "metadata": {
        "colab": {
          "base_uri": "https://localhost:8080/"
        },
        "id": "Y0qsZcZKqkBD",
        "outputId": "e89ab410-4a2c-4ad2-8c85-643bb1e63c9d"
      },
      "execution_count": null,
      "outputs": [
        {
          "output_type": "execute_result",
          "data": {
            "text/plain": [
              "11.352924243950934"
            ]
          },
          "metadata": {},
          "execution_count": 212
        }
      ]
    },
    {
      "cell_type": "code",
      "source": [
        "x_mean_std = std_x / (np.sqrt(len(x)))\n",
        "x_mean_std"
      ],
      "metadata": {
        "colab": {
          "base_uri": "https://localhost:8080/"
        },
        "id": "FZnXqL8fqldL",
        "outputId": "f318c29d-7978-4ea2-83a3-cc78d232277d"
      },
      "execution_count": null,
      "outputs": [
        {
          "output_type": "execute_result",
          "data": {
            "text/plain": [
              "3.590109871423002"
            ]
          },
          "metadata": {},
          "execution_count": 214
        }
      ]
    },
    {
      "cell_type": "code",
      "source": [
        "t_stat(x_mean, x_mean_std, len(x) - 1, 0.05, 'two-sided')"
      ],
      "metadata": {
        "colab": {
          "base_uri": "https://localhost:8080/"
        },
        "id": "wxJj_EIAqlgv",
        "outputId": "8e32fa37-7b07-463e-ff97-1e5dcfb3b523"
      },
      "execution_count": null,
      "outputs": [
        {
          "output_type": "execute_result",
          "data": {
            "text/plain": [
              "(101.87860723933332, 118.12139276066668)"
            ]
          },
          "metadata": {},
          "execution_count": 215
        }
      ]
    },
    {
      "cell_type": "markdown",
      "source": [
        "Вывод: [101.88, 118.12]  - этот интервал с вероятностью 95% покрывает истинное M(X) генеральной совокупности. "
      ],
      "metadata": {
        "id": "jtAFeIb8qrt_"
      }
    },
    {
      "cell_type": "code",
      "source": [
        "x=np.array([104, 101,  83,  83,  78,  83, 102, 111,  85, 105])\n",
        "x_mean = x.mean()\n",
        "x_mean"
      ],
      "metadata": {
        "colab": {
          "base_uri": "https://localhost:8080/"
        },
        "id": "lP7mJiBeqlkV",
        "outputId": "60e7f229-0054-4de6-a98f-cdc43df149be"
      },
      "execution_count": null,
      "outputs": [
        {
          "output_type": "execute_result",
          "data": {
            "text/plain": [
              "93.5"
            ]
          },
          "metadata": {},
          "execution_count": 216
        }
      ]
    },
    {
      "cell_type": "code",
      "source": [
        "std_x = x.std(ddof=1)\n",
        "std_x"
      ],
      "metadata": {
        "colab": {
          "base_uri": "https://localhost:8080/"
        },
        "id": "jc3F_u6orL3N",
        "outputId": "9dab0076-1f9d-4b9a-9af9-af0cac3fdb86"
      },
      "execution_count": null,
      "outputs": [
        {
          "output_type": "execute_result",
          "data": {
            "text/plain": [
              "12.112894873737748"
            ]
          },
          "metadata": {},
          "execution_count": 217
        }
      ]
    },
    {
      "cell_type": "code",
      "source": [
        "x_mean_std = std_x / (np.sqrt(len(x)))\n",
        "x_mean_std"
      ],
      "metadata": {
        "colab": {
          "base_uri": "https://localhost:8080/"
        },
        "id": "eoTrKobPrRHM",
        "outputId": "f74364ef-be45-45af-be5b-8887ad9b5345"
      },
      "execution_count": null,
      "outputs": [
        {
          "output_type": "execute_result",
          "data": {
            "text/plain": [
              "3.830433685918896"
            ]
          },
          "metadata": {},
          "execution_count": 218
        }
      ]
    },
    {
      "cell_type": "code",
      "source": [
        "t_stat(x_mean, x_mean_std, len(x) - 1, 0.05, 'two-sided')"
      ],
      "metadata": {
        "colab": {
          "base_uri": "https://localhost:8080/"
        },
        "id": "UO5-WY8-rT2X",
        "outputId": "f1ffe8d3-61a0-4a97-e009-20abea255ba7"
      },
      "execution_count": null,
      "outputs": [
        {
          "output_type": "execute_result",
          "data": {
            "text/plain": [
              "(84.8349570009942, 102.1650429990058)"
            ]
          },
          "metadata": {},
          "execution_count": 219
        }
      ]
    },
    {
      "cell_type": "markdown",
      "source": [
        "Вывод: [84.84, 102.17]  - этот интервал с вероятностью 95% покрывает истинное M(X) генеральной совокупности."
      ],
      "metadata": {
        "id": "rmyh_LSZra4w"
      }
    }
  ]
}